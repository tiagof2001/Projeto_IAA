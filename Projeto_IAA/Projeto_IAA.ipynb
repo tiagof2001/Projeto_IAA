{
 "cells": [
  {
   "cell_type": "markdown",
   "metadata": {
    "id": "y0s0ekXK2T6_"
   },
   "source": [
    "#Descarregamento dos dados do ficheiro CVS_cleaned"
   ]
  },
  {
   "cell_type": "code",
   "execution_count": 1,
   "metadata": {
    "executionInfo": {
     "elapsed": 1902,
     "status": "ok",
     "timestamp": 1736263319786,
     "user": {
      "displayName": "Tiago Gonçalves",
      "userId": "16692847479712686879"
     },
     "user_tz": 0
    },
    "id": "-8HNBrrb2bFo"
   },
   "outputs": [],
   "source": [
    "import pandas as pd\n",
    "import numpy as np\n",
    "\n",
    "# Ler o arquivo CSV\n",
    "df = pd.read_csv('CVD_cleaned.csv')"
   ]
  },
  {
   "cell_type": "markdown",
   "metadata": {
    "id": "ru6usoli1YlH"
   },
   "source": [
    "#Remoção de 10% e 20% dos dados"
   ]
  },
  {
   "cell_type": "code",
   "execution_count": null,
   "metadata": {
    "id": "r05Y5D83rJOl"
   },
   "outputs": [],
   "source": [
    "def remover_dados(df,percentual_remocao):\n",
    "\n",
    "  # Substituir 10% dos valores de cada linha por NaN\n",
    "  for index, row in df.iterrows():\n",
    "    # Selecionar colunas aleatórias na linha\n",
    "    num_colunas = len(row)\n",
    "    colunas_a_remover = np.random.choice(row.index, size=round(num_colunas * percentual_remocao), replace=False)\n",
    "    # Substituir os valores escolhidos por NaN\n",
    "    df.loc[index, colunas_a_remover] = np.nan\n",
    "  return df\n",
    "\n",
    "numero_registos = 10\n",
    "df_copia = df.sample(n=numero_registos, random_state=42)\n",
    "#print(df_copia.iloc[2])\n",
    "\n",
    "df_delete_dez = remover_dados(df_copia,0.1)\n",
    "df_delete_vinte = remover_dados(df_copia,0.2)"
   ]
  },
  {
   "cell_type": "markdown",
   "metadata": {
    "id": "TDTBTN25bMP1"
   },
   "source": [
    "# Tratamento dos dados eliminados"
   ]
  },
  {
   "cell_type": "markdown",
   "metadata": {
    "id": "2OLmC25rbUev"
   },
   "source": [
    "## Para 10% dos dados (Valor mais comum e Valor medio)\n",
    "\n"
   ]
  },
  {
   "cell_type": "code",
   "execution_count": null,
   "metadata": {
    "colab": {
     "base_uri": "https://localhost:8080/"
    },
    "collapsed": true,
    "executionInfo": {
     "elapsed": 2,
     "status": "ok",
     "timestamp": 1735904380965,
     "user": {
      "displayName": "Tiago Gonçalves",
      "userId": "16692847479712686879"
     },
     "user_tz": 0
    },
    "id": "MqiWzqIHbgc9",
    "outputId": "764de7d8-1ece-436f-86ff-8b15bd85368a"
   },
   "outputs": [
    {
     "name": "stdout",
     "output_type": "stream",
     "text": [
      "       General_Health                  Checkup Exercise Heart_Disease  \\\n",
      "302051      Excellent     Within the past year      Yes            No   \n",
      "59950       Very Good     Within the past year       No            No   \n",
      "203639           Good     Within the past year       No            No   \n",
      "78768       Very Good     Within the past year      Yes            No   \n",
      "216156      Excellent     Within the past year      Yes            No   \n",
      "84107       Excellent     Within the past year      Yes            No   \n",
      "284341      Excellent     Within the past year      Yes            No   \n",
      "227575      Very Good     Within the past year      Yes            No   \n",
      "19010            Good  Within the past 2 years      Yes            No   \n",
      "123471      Excellent  Within the past 5 years      Yes            No   \n",
      "\n",
      "       Skin_Cancer Other_Cancer Depression  \\\n",
      "302051          No           No         No   \n",
      "59950           No           No         No   \n",
      "203639          No           No         No   \n",
      "78768           No           No         No   \n",
      "216156         Yes           No        Yes   \n",
      "84107           No          Yes         No   \n",
      "284341         Yes           No         No   \n",
      "227575          No           No        Yes   \n",
      "19010           No           No         No   \n",
      "123471          No           No         No   \n",
      "\n",
      "                                       Diabetes Arthritis     Sex  \\\n",
      "302051                                       No       Yes  Female   \n",
      "59950                                        No        No  Female   \n",
      "203639                                       No       Yes  Female   \n",
      "78768                                        No        No    Male   \n",
      "216156  No, pre-diabetes or borderline diabetes        No  Female   \n",
      "84107                                        No        No  Female   \n",
      "284341                                       No        No    Male   \n",
      "227575                                       No       Yes  Female   \n",
      "19010                                        No        No  Female   \n",
      "123471                                      Yes        No  Female   \n",
      "\n",
      "       Age_Category  Height_(cm)  Weight_(kg)    BMI Smoking_History  \\\n",
      "302051        60-64        178.0        86.18  27.26              No   \n",
      "59950         70-74        165.0        79.38  29.12              No   \n",
      "203639        60-64        165.0        54.43  25.82             Yes   \n",
      "78768         25-29        183.0        93.89  28.07              No   \n",
      "216156        60-64        165.0        54.43  22.67             Yes   \n",
      "84107         60-64        165.0        54.43  27.46              No   \n",
      "284341        55-59        165.0        90.72  22.67             Yes   \n",
      "227575        65-69        165.0        77.11  24.39             Yes   \n",
      "19010         60-64        155.0        54.43  22.67              No   \n",
      "123471        60-64        165.0        54.43  47.78              No   \n",
      "\n",
      "        Alcohol_Consumption  Fruit_Consumption  Green_Vegetables_Consumption  \\\n",
      "302051                  0.0               30.0                          16.0   \n",
      "59950                   0.0                0.0                          30.0   \n",
      "203639                  6.0                0.0                          20.0   \n",
      "78768                   0.0               60.0                           8.0   \n",
      "216156                  0.0               20.0                           6.0   \n",
      "84107                   0.0                0.0                          30.0   \n",
      "284341                  0.0               40.0                          30.0   \n",
      "227575                  0.0                0.0                          12.0   \n",
      "19010                  30.0                0.0                          30.0   \n",
      "123471                  2.0                0.0                           4.0   \n",
      "\n",
      "        FriedPotato_Consumption  \n",
      "302051                      8.0  \n",
      "59950                      12.0  \n",
      "203639                      0.0  \n",
      "78768                       2.0  \n",
      "216156                     15.0  \n",
      "84107                       8.0  \n",
      "284341                     12.0  \n",
      "227575                      8.0  \n",
      "19010                       4.0  \n",
      "123471                      1.0  \n",
      "       General_Health                  Checkup Exercise Heart_Disease  \\\n",
      "302051      Excellent     Within the past year      Yes            No   \n",
      "59950       Very Good     Within the past year       No            No   \n",
      "203639           Good     Within the past year       No            No   \n",
      "78768       Very Good     Within the past year      Yes            No   \n",
      "216156      Excellent     Within the past year      Yes            No   \n",
      "84107       Excellent     Within the past year      Yes            No   \n",
      "284341      Excellent     Within the past year      Yes            No   \n",
      "227575      Very Good     Within the past year      Yes            No   \n",
      "19010            Good  Within the past 2 years      Yes            No   \n",
      "123471      Excellent  Within the past 5 years      Yes            No   \n",
      "\n",
      "       Skin_Cancer Other_Cancer Depression  \\\n",
      "302051          No           No         No   \n",
      "59950           No           No         No   \n",
      "203639          No           No         No   \n",
      "78768           No           No         No   \n",
      "216156         Yes           No        Yes   \n",
      "84107           No          Yes         No   \n",
      "284341         Yes           No         No   \n",
      "227575          No           No        Yes   \n",
      "19010           No           No         No   \n",
      "123471          No           No         No   \n",
      "\n",
      "                                       Diabetes Arthritis     Sex  \\\n",
      "302051                                       No       Yes  Female   \n",
      "59950                                        No        No  Female   \n",
      "203639                                       No       Yes  Female   \n",
      "78768                                        No        No    Male   \n",
      "216156  No, pre-diabetes or borderline diabetes        No  Female   \n",
      "84107                                        No        No  Female   \n",
      "284341                                       No        No    Male   \n",
      "227575                                       No       Yes  Female   \n",
      "19010                                        No        No  Female   \n",
      "123471                                      Yes        No  Female   \n",
      "\n",
      "       Age_Category  Height_(cm)  Weight_(kg)    BMI Smoking_History  \\\n",
      "302051        60-64        178.0        86.18  27.26              No   \n",
      "59950         70-74        165.0        79.38  29.12              No   \n",
      "203639        60-64        165.0        54.43  25.82             Yes   \n",
      "78768         25-29        183.0        93.89  28.07              No   \n",
      "216156        60-64        165.0        54.43  22.67             Yes   \n",
      "84107         60-64        165.0        54.43  27.46              No   \n",
      "284341        55-59        165.0        90.72  22.67             Yes   \n",
      "227575        65-69        165.0        77.11  24.39             Yes   \n",
      "19010         60-64        155.0        54.43  22.67              No   \n",
      "123471        60-64        165.0        54.43  47.78              No   \n",
      "\n",
      "        Alcohol_Consumption  Fruit_Consumption  Green_Vegetables_Consumption  \\\n",
      "302051                  0.0               30.0                          16.0   \n",
      "59950                   0.0                0.0                          30.0   \n",
      "203639                  6.0                0.0                          20.0   \n",
      "78768                   0.0               60.0                           8.0   \n",
      "216156                  0.0               20.0                           6.0   \n",
      "84107                   0.0                0.0                          30.0   \n",
      "284341                  0.0               40.0                          30.0   \n",
      "227575                  0.0                0.0                          12.0   \n",
      "19010                  30.0                0.0                          30.0   \n",
      "123471                  2.0                0.0                           4.0   \n",
      "\n",
      "        FriedPotato_Consumption  \n",
      "302051                      8.0  \n",
      "59950                      12.0  \n",
      "203639                      0.0  \n",
      "78768                       2.0  \n",
      "216156                     15.0  \n",
      "84107                       8.0  \n",
      "284341                     12.0  \n",
      "227575                      8.0  \n",
      "19010                       4.0  \n",
      "123471                      1.0  \n"
     ]
    }
   ],
   "source": [
    "# Copiar do dataset dos dados eliminados para outro dataset\n",
    "\n",
    "#Filtração do dataset para conter só os registos que contém pelo menos um nan\n",
    "\n",
    "#linhas_com_nulos = df_delete_dez[df_delete_dez.isnull().any(axis=1)]\n",
    "#print(linhas_com_nulos)\n",
    "#df_delete_dez_comum = linhas_com_nulos\n",
    "#df_delete_dez_mean = linhas_com_nulos\n",
    "\n",
    "df_delete_dez_comum = df_delete_dez\n",
    "df_delete_dez_mean = df_delete_dez\n",
    "\n",
    "# Tratamento dos dados eliminados através da substituição pelo valor mais comum\n",
    "for coluna_comum in df_delete_dez_comum.columns:\n",
    "    valor_mais_comum = df_delete_dez_mean[coluna_comum].mode()[0]  # Calcula o valor mais comum\n",
    "    df_delete_dez_comum[coluna_comum] = df_delete_dez_comum[coluna_comum].fillna(valor_mais_comum)  # Substitui valores nulos\n",
    "\n",
    "\n",
    "# Tratamento dos dados eliminados através da substituição pelo valor médio\n",
    "\n",
    "# É realizado uma conversão das colunas quantativas para numericos, para obter o valor médio dessas colunas\n",
    "\n",
    "# Identificar colunas qualitativas\n",
    "categorical_cols = df_delete_dez_mean.select_dtypes(include=['object', 'category']).columns\n",
    "\n",
    "# Criação de um dicionário para mapear categorias para valores numéricos e vice-versa\n",
    "categorical_maps = {}\n",
    "\n",
    "# Converter os valores categoricos para valores numéricos\n",
    "for col in categorical_cols:\n",
    "    unique_categories = df_delete_dez_mean[col].dropna().unique()\n",
    "    category_to_num = {cat: num for num, cat in enumerate(unique_categories)}\n",
    "    num_to_category = {num: cat for cat, num in category_to_num.items()}\n",
    "    categorical_maps[col] = {'cat_to_num': category_to_num, 'num_to_cat': num_to_category}\n",
    "    df_delete_dez_mean[col] = df_delete_dez_mean[col].map(category_to_num)\n",
    "\n",
    "# Passo 3: Obter o valor médio para cada coluna\n",
    "means = {}\n",
    "for col in df_delete_dez_mean.columns:\n",
    "    means[col] = df_delete_dez_mean[col].mean()\n",
    "\n",
    "# Passo 4: Substituir valores nulos pelo valor médio\n",
    "for col in df_delete_dez_mean.columns:\n",
    "    df_delete_dez_mean[col] = df_delete_dez_mean[col].fillna(means[col])\n",
    "\n",
    "# Passo 5: Reversão das colunas qualitativas de valores numéricos para as categorias originais\n",
    "for col in categorical_cols:\n",
    "    df_delete_dez_mean[col] = df_delete_dez_mean[col].round().astype(int).map(categorical_maps[col]['num_to_cat'])\n",
    "\n",
    "print(df_delete_dez_comum)\n",
    "print(df_delete_dez_mean)"
   ]
  },
  {
   "cell_type": "markdown",
   "metadata": {
    "id": "qad5A6i8bYPj"
   },
   "source": [
    "## Para 20% dos dados (Valor mais comum e Valor medio)"
   ]
  },
  {
   "cell_type": "code",
   "execution_count": null,
   "metadata": {
    "colab": {
     "base_uri": "https://localhost:8080/"
    },
    "collapsed": true,
    "executionInfo": {
     "elapsed": 3,
     "status": "ok",
     "timestamp": 1735904381308,
     "user": {
      "displayName": "Tiago Gonçalves",
      "userId": "16692847479712686879"
     },
     "user_tz": 0
    },
    "id": "a0GLj60Rne5H",
    "outputId": "c9edece2-accf-4852-c24b-2e93f5e411dc"
   },
   "outputs": [
    {
     "name": "stdout",
     "output_type": "stream",
     "text": [
      "       General_Health                  Checkup Exercise Heart_Disease  \\\n",
      "302051      Excellent     Within the past year      Yes            No   \n",
      "59950       Very Good     Within the past year       No            No   \n",
      "203639           Good     Within the past year       No            No   \n",
      "78768       Very Good     Within the past year      Yes            No   \n",
      "216156      Excellent     Within the past year      Yes            No   \n",
      "84107       Excellent     Within the past year      Yes            No   \n",
      "284341      Excellent     Within the past year      Yes            No   \n",
      "227575      Very Good     Within the past year      Yes            No   \n",
      "19010            Good  Within the past 2 years      Yes            No   \n",
      "123471      Excellent  Within the past 5 years      Yes            No   \n",
      "\n",
      "       Skin_Cancer Other_Cancer Depression  \\\n",
      "302051          No           No         No   \n",
      "59950           No           No         No   \n",
      "203639          No           No         No   \n",
      "78768           No           No         No   \n",
      "216156         Yes           No        Yes   \n",
      "84107           No          Yes         No   \n",
      "284341         Yes           No         No   \n",
      "227575          No           No        Yes   \n",
      "19010           No           No         No   \n",
      "123471          No           No         No   \n",
      "\n",
      "                                       Diabetes Arthritis     Sex  \\\n",
      "302051                                       No       Yes  Female   \n",
      "59950                                        No        No  Female   \n",
      "203639                                       No       Yes  Female   \n",
      "78768                                        No        No    Male   \n",
      "216156  No, pre-diabetes or borderline diabetes        No  Female   \n",
      "84107                                        No        No  Female   \n",
      "284341                                       No        No    Male   \n",
      "227575                                       No       Yes  Female   \n",
      "19010                                        No        No  Female   \n",
      "123471                                      Yes        No  Female   \n",
      "\n",
      "       Age_Category  Height_(cm)  Weight_(kg)    BMI Smoking_History  \\\n",
      "302051        60-64        178.0        86.18  27.26              No   \n",
      "59950         70-74        165.0        79.38  29.12              No   \n",
      "203639        60-64        165.0        54.43  25.82             Yes   \n",
      "78768         25-29        183.0        93.89  28.07              No   \n",
      "216156        60-64        165.0        54.43  22.67             Yes   \n",
      "84107         60-64        165.0        54.43  27.46              No   \n",
      "284341        55-59        165.0        90.72  22.67             Yes   \n",
      "227575        65-69        165.0        77.11  24.39             Yes   \n",
      "19010         60-64        155.0        54.43  22.67              No   \n",
      "123471        60-64        165.0        54.43  47.78              No   \n",
      "\n",
      "        Alcohol_Consumption  Fruit_Consumption  Green_Vegetables_Consumption  \\\n",
      "302051                  0.0               30.0                          16.0   \n",
      "59950                   0.0                0.0                          30.0   \n",
      "203639                  6.0                0.0                          20.0   \n",
      "78768                   0.0               60.0                           8.0   \n",
      "216156                  0.0               20.0                           6.0   \n",
      "84107                   0.0                0.0                          30.0   \n",
      "284341                  0.0               40.0                          30.0   \n",
      "227575                  0.0                0.0                          12.0   \n",
      "19010                  30.0                0.0                          30.0   \n",
      "123471                  2.0                0.0                           4.0   \n",
      "\n",
      "        FriedPotato_Consumption  \n",
      "302051                      8.0  \n",
      "59950                      12.0  \n",
      "203639                      0.0  \n",
      "78768                       2.0  \n",
      "216156                     15.0  \n",
      "84107                       8.0  \n",
      "284341                     12.0  \n",
      "227575                      8.0  \n",
      "19010                       4.0  \n",
      "123471                      1.0  \n",
      "       General_Health                  Checkup Exercise Heart_Disease  \\\n",
      "302051      Excellent     Within the past year      Yes            No   \n",
      "59950       Very Good     Within the past year       No            No   \n",
      "203639           Good     Within the past year       No            No   \n",
      "78768       Very Good     Within the past year      Yes            No   \n",
      "216156      Excellent     Within the past year      Yes            No   \n",
      "84107       Excellent     Within the past year      Yes            No   \n",
      "284341      Excellent     Within the past year      Yes            No   \n",
      "227575      Very Good     Within the past year      Yes            No   \n",
      "19010            Good  Within the past 2 years      Yes            No   \n",
      "123471      Excellent  Within the past 5 years      Yes            No   \n",
      "\n",
      "       Skin_Cancer Other_Cancer Depression  \\\n",
      "302051          No           No         No   \n",
      "59950           No           No         No   \n",
      "203639          No           No         No   \n",
      "78768           No           No         No   \n",
      "216156         Yes           No        Yes   \n",
      "84107           No          Yes         No   \n",
      "284341         Yes           No         No   \n",
      "227575          No           No        Yes   \n",
      "19010           No           No         No   \n",
      "123471          No           No         No   \n",
      "\n",
      "                                       Diabetes Arthritis     Sex  \\\n",
      "302051                                       No       Yes  Female   \n",
      "59950                                        No        No  Female   \n",
      "203639                                       No       Yes  Female   \n",
      "78768                                        No        No    Male   \n",
      "216156  No, pre-diabetes or borderline diabetes        No  Female   \n",
      "84107                                        No        No  Female   \n",
      "284341                                       No        No    Male   \n",
      "227575                                       No       Yes  Female   \n",
      "19010                                        No        No  Female   \n",
      "123471                                      Yes        No  Female   \n",
      "\n",
      "       Age_Category  Height_(cm)  Weight_(kg)    BMI Smoking_History  \\\n",
      "302051        60-64        178.0        86.18  27.26              No   \n",
      "59950         70-74        165.0        79.38  29.12              No   \n",
      "203639        60-64        165.0        54.43  25.82             Yes   \n",
      "78768         25-29        183.0        93.89  28.07              No   \n",
      "216156        60-64        165.0        54.43  22.67             Yes   \n",
      "84107         60-64        165.0        54.43  27.46              No   \n",
      "284341        55-59        165.0        90.72  22.67             Yes   \n",
      "227575        65-69        165.0        77.11  24.39             Yes   \n",
      "19010         60-64        155.0        54.43  22.67              No   \n",
      "123471        60-64        165.0        54.43  47.78              No   \n",
      "\n",
      "        Alcohol_Consumption  Fruit_Consumption  Green_Vegetables_Consumption  \\\n",
      "302051                  0.0               30.0                          16.0   \n",
      "59950                   0.0                0.0                          30.0   \n",
      "203639                  6.0                0.0                          20.0   \n",
      "78768                   0.0               60.0                           8.0   \n",
      "216156                  0.0               20.0                           6.0   \n",
      "84107                   0.0                0.0                          30.0   \n",
      "284341                  0.0               40.0                          30.0   \n",
      "227575                  0.0                0.0                          12.0   \n",
      "19010                  30.0                0.0                          30.0   \n",
      "123471                  2.0                0.0                           4.0   \n",
      "\n",
      "        FriedPotato_Consumption  \n",
      "302051                      8.0  \n",
      "59950                      12.0  \n",
      "203639                      0.0  \n",
      "78768                       2.0  \n",
      "216156                     15.0  \n",
      "84107                       8.0  \n",
      "284341                     12.0  \n",
      "227575                      8.0  \n",
      "19010                       4.0  \n",
      "123471                      1.0  \n"
     ]
    }
   ],
   "source": [
    "# Copiar do dataset dos dados eliminados para outro dataset\n",
    "\n",
    "#Filtração do dataset para conter só os registos que contém pelo menos um nan\n",
    "\n",
    "#linhas_com_nulos = df_delete_vinte[df_delete_vinte.isnull().any(axis=1)]\n",
    "#print(linhas_com_nulos)\n",
    "#df_delete_vinte_comum = linhas_com_nulos\n",
    "#df_delete_vinte_mean = linhas_com_nulos\n",
    "\n",
    "df_delete_vinte_comum = df_delete_vinte\n",
    "df_delete_vinte_mean = df_delete_vinte\n",
    "\n",
    "# Tratamento dos dados eliminados através da substituição pelo valor mais comum\n",
    "for coluna_comum in df_delete_vinte_comum.columns:\n",
    "    valor_mais_comum = df_delete_vinte_comum[coluna_comum].mode()[0]  # Calcula o valor mais comum\n",
    "    df_delete_vinte_comum[coluna_comum] = df_delete_vinte_comum[coluna_comum].fillna(valor_mais_comum)  # Substitui valores nulos\n",
    "\n",
    "# Tratamento dos dados eliminados através da substituição pelo valor médio\n",
    "\n",
    "# Identificar colunas qualitativas\n",
    "categorical_cols = df_delete_vinte_mean.select_dtypes(include=['object', 'category']).columns\n",
    "\n",
    "# Criação de um dicionário para mapear categorias para valores numéricos e vice-versa\n",
    "categorical_maps = {}\n",
    "\n",
    "# Converter valores categoricos para valores numéricos\n",
    "for col in categorical_cols:\n",
    "    unique_categories = df_delete_vinte_mean[col].dropna().unique()\n",
    "    category_to_num = {cat: num for num, cat in enumerate(unique_categories)}\n",
    "    num_to_category = {num: cat for cat, num in category_to_num.items()}\n",
    "    categorical_maps[col] = {'cat_to_num': category_to_num, 'num_to_cat': num_to_category}\n",
    "    df_delete_vinte_mean[col] = df_delete_vinte_mean[col].map(category_to_num)\n",
    "\n",
    "# Passo 3: Obter o valor médio para cada coluna\n",
    "means = {}\n",
    "for col in df_delete_vinte_mean.columns:\n",
    "    means[col] = df_delete_vinte_mean[col].mean()\n",
    "\n",
    "# Passo 4: Substituir valores nulos pelo valor médio\n",
    "for col in df_delete_vinte_mean.columns:\n",
    "    df_delete_vinte_mean[col] = df_delete_vinte_mean[col].fillna(means[col])\n",
    "\n",
    "# Passo 5: Reverter colunas qualitativas de valores numéricos para categorias originais\n",
    "for col in categorical_cols:\n",
    "    df_delete_vinte_mean[col] = df_delete_vinte_mean[col].round().astype(int).map(categorical_maps[col]['num_to_cat'])\n",
    "\n",
    "print(df_delete_vinte_comum)\n",
    "print(df_delete_vinte_mean)"
   ]
  },
  {
   "cell_type": "markdown",
   "metadata": {
    "id": "Vsurk6EV2CLI"
   },
   "source": [
    "#Normalização dos dados"
   ]
  },
  {
   "cell_type": "code",
   "execution_count": null,
   "metadata": {
    "id": "wyKO0xNHF5V-"
   },
   "outputs": [],
   "source": [
    "def min_max_normalization(df, columns):\n",
    "    for column in columns:\n",
    "        min_val = df[column].min()\n",
    "        max_val = df[column].max()\n",
    "        df[column] = (df[column] - min_val) / (max_val - min_val)\n",
    "    return df\n",
    "\n",
    "def z_score_normalization(df, columns):\n",
    "    for column in columns:\n",
    "        mean = df[column].mean()\n",
    "        std = df[column].std()\n",
    "        df[column] = (df[column] - mean) / std\n",
    "    return df\n",
    "\n"
   ]
  },
  {
   "cell_type": "markdown",
   "metadata": {
    "id": "iEWHbCS32kr1"
   },
   "source": [
    "##Min-Max"
   ]
  },
  {
   "cell_type": "markdown",
   "metadata": {
    "id": "r-9p-xzIFHSy"
   },
   "source": [
    "Para a normalização dos dados, foi feito nas colunas \"Height_(cm)' de cm para m, \"Fruit_Consumption\" para [0,1], \"Green_Vegetables_Consumption\" para [0,1] e \"FriedPotato_Consumption\" para [0,1]"
   ]
  },
  {
   "cell_type": "code",
   "execution_count": null,
   "metadata": {
    "colab": {
     "base_uri": "https://localhost:8080/"
    },
    "collapsed": true,
    "executionInfo": {
     "elapsed": 196,
     "status": "ok",
     "timestamp": 1735907716048,
     "user": {
      "displayName": "Tiago Gonçalves",
      "userId": "16692847479712686879"
     },
     "user_tz": 0
    },
    "id": "0Vpx78d9EmdP",
    "outputId": "c064d84c-d14a-47e4-ccb0-925cc48b0e70"
   },
   "outputs": [
    {
     "name": "stdout",
     "output_type": "stream",
     "text": [
      "       General_Health                  Checkup Exercise Heart_Disease  \\\n",
      "0                Poor  Within the past 2 years       No            No   \n",
      "1           Very Good     Within the past year       No           Yes   \n",
      "2           Very Good     Within the past year      Yes            No   \n",
      "3                Poor     Within the past year      Yes           Yes   \n",
      "4                Good     Within the past year       No            No   \n",
      "...               ...                      ...      ...           ...   \n",
      "308849      Very Good     Within the past year      Yes            No   \n",
      "308850           Fair  Within the past 5 years      Yes            No   \n",
      "308851      Very Good      5 or more years ago      Yes            No   \n",
      "308852      Very Good     Within the past year      Yes            No   \n",
      "308853      Excellent     Within the past year      Yes            No   \n",
      "\n",
      "       Skin_Cancer Other_Cancer Depression  \\\n",
      "0               No           No         No   \n",
      "1               No           No         No   \n",
      "2               No           No         No   \n",
      "3               No           No         No   \n",
      "4               No           No         No   \n",
      "...            ...          ...        ...   \n",
      "308849          No           No         No   \n",
      "308850          No           No         No   \n",
      "308851          No           No        Yes   \n",
      "308852          No           No         No   \n",
      "308853          No           No         No   \n",
      "\n",
      "                                          Diabetes Arthritis     Sex  \\\n",
      "0                                               No       Yes  Female   \n",
      "1                                              Yes        No  Female   \n",
      "2                                              Yes        No  Female   \n",
      "3                                              Yes        No    Male   \n",
      "4                                               No        No    Male   \n",
      "...                                            ...       ...     ...   \n",
      "308849                                          No        No    Male   \n",
      "308850                                         Yes        No    Male   \n",
      "308851  Yes, but female told only during pregnancy        No  Female   \n",
      "308852                                          No        No    Male   \n",
      "308853                                          No        No  Female   \n",
      "\n",
      "       Age_Category  Height_(m)  Weight_(kg)    BMI Smoking_History  \\\n",
      "0             70-74        1.50        32.66  14.54             Yes   \n",
      "1             70-74        1.65        77.11  28.29              No   \n",
      "2             60-64        1.63        88.45  33.47              No   \n",
      "3             75-79        1.80        93.44  28.73              No   \n",
      "4               80+        1.91        88.45  24.37             Yes   \n",
      "...             ...         ...          ...    ...             ...   \n",
      "308849        25-29        1.68        81.65  29.05              No   \n",
      "308850        65-69        1.80        69.85  21.48              No   \n",
      "308851        30-34        1.57        61.23  24.69             Yes   \n",
      "308852        65-69        1.83        79.38  23.73              No   \n",
      "308853        45-49        1.60        81.19  31.71              No   \n",
      "\n",
      "        Alcohol_Consumption  Fruit_Consumption [0,1]  \\\n",
      "0                       0.0                 0.250000   \n",
      "1                       0.0                 0.250000   \n",
      "2                       4.0                 0.100000   \n",
      "3                       0.0                 0.250000   \n",
      "4                       0.0                 0.066667   \n",
      "...                     ...                      ...   \n",
      "308849                  4.0                 0.250000   \n",
      "308850                  8.0                 0.125000   \n",
      "308851                  4.0                 0.333333   \n",
      "308852                  3.0                 0.250000   \n",
      "308853                  1.0                 0.041667   \n",
      "\n",
      "        Green_Vegetables_Consumption [0,1]  FriedPotato_Consumption [0,1]  \n",
      "0                                 0.125000                       0.093750  \n",
      "1                                 0.000000                       0.031250  \n",
      "2                                 0.023438                       0.125000  \n",
      "3                                 0.234375                       0.062500  \n",
      "4                                 0.031250                       0.000000  \n",
      "...                                    ...                            ...  \n",
      "308849                            0.062500                       0.000000  \n",
      "308850                            0.468750                       0.031250  \n",
      "308851                            0.062500                       0.031250  \n",
      "308852                            0.093750                       0.000000  \n",
      "308853                            0.093750                       0.007812  \n",
      "\n",
      "[308854 rows x 19 columns]\n"
     ]
    }
   ],
   "source": [
    "df_min_max = df.copy()\n",
    "\n",
    "#Valido?\n",
    "for column in ['Height_(cm)']:\n",
    "  df_min_max[column] = df_min_max[column]/100\n",
    "\n",
    "df_min_max = min_max_normalization(df_min_max, ['Fruit_Consumption'])\n",
    "df_min_max = min_max_normalization(df_min_max, ['Green_Vegetables_Consumption'])\n",
    "df_min_max = min_max_normalization(df_min_max, ['FriedPotato_Consumption'])\n",
    "\n",
    "df_min_max.rename(columns={'Height_(cm)': 'Height_(m)'}, inplace=True)\n",
    "df_min_max.rename(columns={'Fruit_Consumption': 'Fruit_Consumption [0,1]'}, inplace=True)\n",
    "df_min_max.rename(columns={'Green_Vegetables_Consumption': 'Green_Vegetables_Consumption [0,1]'}, inplace=True)\n",
    "df_min_max.rename(columns={'FriedPotato_Consumption': 'FriedPotato_Consumption [0,1]'}, inplace=True)\n",
    "\n",
    "print(df_min_max)"
   ]
  },
  {
   "cell_type": "markdown",
   "metadata": {
    "id": "aAAyQW6g3JS5"
   },
   "source": [
    "##Z-score"
   ]
  },
  {
   "cell_type": "markdown",
   "metadata": {
    "id": "bXMAqAqhIRtJ"
   },
   "source": [
    "Para a normalização dos dados, foi feito nas colunas \"Fruit_Consumption\", \"Green_Vegetables_Consumption\" e \"FriedPotato_Consumption\""
   ]
  },
  {
   "cell_type": "code",
   "execution_count": null,
   "metadata": {
    "colab": {
     "base_uri": "https://localhost:8080/"
    },
    "collapsed": true,
    "executionInfo": {
     "elapsed": 212,
     "status": "ok",
     "timestamp": 1735907812908,
     "user": {
      "displayName": "Tiago Gonçalves",
      "userId": "16692847479712686879"
     },
     "user_tz": 0
    },
    "id": "XXLZURcuIEkJ",
    "outputId": "07bd82b2-8e67-46f4-acd3-5a83700760af"
   },
   "outputs": [
    {
     "name": "stdout",
     "output_type": "stream",
     "text": [
      "       General_Health                  Checkup Exercise Heart_Disease  \\\n",
      "0                Poor  Within the past 2 years       No            No   \n",
      "1           Very Good     Within the past year       No           Yes   \n",
      "2           Very Good     Within the past year      Yes            No   \n",
      "3                Poor     Within the past year      Yes           Yes   \n",
      "4                Good     Within the past year       No            No   \n",
      "...               ...                      ...      ...           ...   \n",
      "308849      Very Good     Within the past year      Yes            No   \n",
      "308850           Fair  Within the past 5 years      Yes            No   \n",
      "308851      Very Good      5 or more years ago      Yes            No   \n",
      "308852      Very Good     Within the past year      Yes            No   \n",
      "308853      Excellent     Within the past year      Yes            No   \n",
      "\n",
      "       Skin_Cancer Other_Cancer Depression  \\\n",
      "0               No           No         No   \n",
      "1               No           No         No   \n",
      "2               No           No         No   \n",
      "3               No           No         No   \n",
      "4               No           No         No   \n",
      "...            ...          ...        ...   \n",
      "308849          No           No         No   \n",
      "308850          No           No         No   \n",
      "308851          No           No        Yes   \n",
      "308852          No           No         No   \n",
      "308853          No           No         No   \n",
      "\n",
      "                                          Diabetes Arthritis     Sex  \\\n",
      "0                                               No       Yes  Female   \n",
      "1                                              Yes        No  Female   \n",
      "2                                              Yes        No  Female   \n",
      "3                                              Yes        No    Male   \n",
      "4                                               No        No    Male   \n",
      "...                                            ...       ...     ...   \n",
      "308849                                          No        No    Male   \n",
      "308850                                         Yes        No    Male   \n",
      "308851  Yes, but female told only during pregnancy        No  Female   \n",
      "308852                                          No        No    Male   \n",
      "308853                                          No        No  Female   \n",
      "\n",
      "       Age_Category  Height_(cm)  Weight_(kg)    BMI Smoking_History  \\\n",
      "0             70-74        150.0        32.66  14.54             Yes   \n",
      "1             70-74        165.0        77.11  28.29              No   \n",
      "2             60-64        163.0        88.45  33.47              No   \n",
      "3             75-79        180.0        93.44  28.73              No   \n",
      "4               80+        191.0        88.45  24.37             Yes   \n",
      "...             ...          ...          ...    ...             ...   \n",
      "308849        25-29        168.0        81.65  29.05              No   \n",
      "308850        65-69        180.0        69.85  21.48              No   \n",
      "308851        30-34        157.0        61.23  24.69             Yes   \n",
      "308852        65-69        183.0        79.38  23.73              No   \n",
      "308853        45-49        160.0        81.19  31.71              No   \n",
      "\n",
      "        Alcohol_Consumption  Fruit_Consumption [0,1]  \\\n",
      "0                       0.0                 0.006625   \n",
      "1                       0.0                 0.006625   \n",
      "2                       4.0                -0.716972   \n",
      "3                       0.0                 0.006625   \n",
      "4                       0.0                -0.877771   \n",
      "...                     ...                      ...   \n",
      "308849                  4.0                 0.006625   \n",
      "308850                  8.0                -0.596372   \n",
      "308851                  4.0                 0.408623   \n",
      "308852                  3.0                 0.006625   \n",
      "308853                  1.0                -0.998371   \n",
      "\n",
      "        Green_Vegetables_Consumption [0,1]  FriedPotato_Consumption [0,1]  \n",
      "0                                 0.059597                       0.664501  \n",
      "1                                -1.012341                      -0.267579  \n",
      "2                                -0.811352                       1.130541  \n",
      "3                                 0.997543                       0.198461  \n",
      "4                                -0.744356                      -0.733619  \n",
      "...                                    ...                            ...  \n",
      "308849                           -0.476372                      -0.733619  \n",
      "308850                            3.007426                      -0.267579  \n",
      "308851                           -0.476372                      -0.267579  \n",
      "308852                           -0.208387                      -0.733619  \n",
      "308853                           -0.208387                      -0.617109  \n",
      "\n",
      "[308854 rows x 19 columns]\n"
     ]
    }
   ],
   "source": [
    "df_z_score = df.copy()\n",
    "\n",
    "df_z_score = z_score_normalization(df_z_score, ['Fruit_Consumption'])\n",
    "df_z_score = z_score_normalization(df_z_score, ['Green_Vegetables_Consumption'])\n",
    "df_z_score = z_score_normalization(df_z_score, ['FriedPotato_Consumption'])\n",
    "\n",
    "df_z_score.rename(columns={'Fruit_Consumption': 'Fruit_Consumption [0,1]'}, inplace=True)\n",
    "df_z_score.rename(columns={'Green_Vegetables_Consumption': 'Green_Vegetables_Consumption [0,1]'}, inplace=True)\n",
    "df_z_score.rename(columns={'FriedPotato_Consumption': 'FriedPotato_Consumption [0,1]'}, inplace=True)\n",
    "\n",
    "print(df_z_score)"
   ]
  },
  {
   "cell_type": "markdown",
   "metadata": {
    "id": "WdyJ7DKI2IF5"
   },
   "source": [
    "#Discritização dos dados"
   ]
  },
  {
   "cell_type": "markdown",
   "metadata": {
    "id": "dDRbCZ1sYOkI"
   },
   "source": [
    "Para a discritização dos dados foi escolhida as colunas relativamente ao BMI, Fruit_Consumption, Green_Vegetables_Consumption e FriedPotato_Consumption\n",
    "\n",
    "Para os valores discretos em cada coluna são:\n",
    "\n",
    "BMI:\n",
    "\n",
    "Menor que 18,5 -> Magreza\n",
    "\n",
    "18,5 a 24,9\t-> Normal\n",
    "\n",
    "25 a 29,9\t-> Sobrepeso\n",
    "\n",
    "30 a 34,9\t-> Obesidade grau I\n",
    "\n",
    "35 a 39,9\t-> Obesidade grau II\n",
    "\n",
    "Maior que 40 -> Obesidade grau III\n",
    "\n",
    "Fruit_Consumption, Green_Vegetables_Consumption e FriedPotato_Consumption:\n",
    "\n",
    "Menor que 25 -> Muito Pouco\n",
    "\n",
    "25 a 49,9 -> Pouco\n",
    "\n",
    "50 a 74,9 -> Bom\n",
    "\n",
    "75 a 99,9 -> Muito\n",
    "\n",
    "Maior que 100 -> Excesso\n"
   ]
  },
  {
   "cell_type": "code",
   "execution_count": null,
   "metadata": {
    "id": "pm4bfRIgWzTk"
   },
   "outputs": [],
   "source": [
    "df_discretization = df.copy()\n",
    "bmi_labels = [\"Magreza\",\"Normal\",\"Sobrepeso\",\"Obesidade grau I\",\"Obesidade grau II\",\"Obesidade grau III\"]\n",
    "consummtion_labels = [\"Muito Pouco\",\"Pouco\",\"Bom\",\"Muito\",\"Excesso\"]"
   ]
  },
  {
   "cell_type": "markdown",
   "metadata": {
    "id": "VWEGhDtc3QIg"
   },
   "source": [
    "## Equal-Width binning"
   ]
  },
  {
   "cell_type": "code",
   "execution_count": null,
   "metadata": {
    "colab": {
     "base_uri": "https://localhost:8080/"
    },
    "collapsed": true,
    "executionInfo": {
     "elapsed": 449,
     "status": "ok",
     "timestamp": 1736000511538,
     "user": {
      "displayName": "Tiago Gonçalves",
      "userId": "16692847479712686879"
     },
     "user_tz": 0
    },
    "id": "9Lbb2Q8kSZuS",
    "outputId": "f90bf7fd-3cef-4c75-e53d-f334aef1f649"
   },
   "outputs": [
    {
     "name": "stdout",
     "output_type": "stream",
     "text": [
      "          BMI   BMI_Equal_Width\n",
      "0       14.54           Magreza\n",
      "1       28.29         Sobrepeso\n",
      "2       33.47  Obesidade grau I\n",
      "3       28.73         Sobrepeso\n",
      "4       24.37            Normal\n",
      "...       ...               ...\n",
      "308849  29.05         Sobrepeso\n",
      "308850  21.48            Normal\n",
      "308851  24.69            Normal\n",
      "308852  23.73            Normal\n",
      "308853  31.71  Obesidade grau I\n",
      "\n",
      "[308854 rows x 2 columns]\n",
      "        Fruit_Consumption Fruit_Consumption_Equal_Width\n",
      "0                    30.0                         Pouco\n",
      "1                    30.0                         Pouco\n",
      "2                    12.0                   Muito Pouco\n",
      "3                    30.0                         Pouco\n",
      "4                     8.0                   Muito Pouco\n",
      "...                   ...                           ...\n",
      "308849               30.0                         Pouco\n",
      "308850               15.0                   Muito Pouco\n",
      "308851               40.0                         Pouco\n",
      "308852               30.0                         Pouco\n",
      "308853                5.0                   Muito Pouco\n",
      "\n",
      "[308854 rows x 2 columns]\n",
      "        Green_Vegetables_Consumption Green_Vegetables_Consumption_Equal_Width\n",
      "0                               16.0                              Muito Pouco\n",
      "1                                0.0                              Muito Pouco\n",
      "2                                3.0                              Muito Pouco\n",
      "3                               30.0                                    Pouco\n",
      "4                                4.0                              Muito Pouco\n",
      "...                              ...                                      ...\n",
      "308849                           8.0                              Muito Pouco\n",
      "308850                          60.0                                      Bom\n",
      "308851                           8.0                              Muito Pouco\n",
      "308852                          12.0                              Muito Pouco\n",
      "308853                          12.0                              Muito Pouco\n",
      "\n",
      "[308854 rows x 2 columns]\n",
      "        FriedPotato_Consumption FriedPotato_Consumption_Equal_Width\n",
      "0                          12.0                         Muito Pouco\n",
      "1                           4.0                         Muito Pouco\n",
      "2                          16.0                         Muito Pouco\n",
      "3                           8.0                         Muito Pouco\n",
      "4                           0.0                         Muito Pouco\n",
      "...                         ...                                 ...\n",
      "308849                      0.0                         Muito Pouco\n",
      "308850                      4.0                         Muito Pouco\n",
      "308851                      4.0                         Muito Pouco\n",
      "308852                      0.0                         Muito Pouco\n",
      "308853                      1.0                         Muito Pouco\n",
      "\n",
      "[308854 rows x 2 columns]\n"
     ]
    }
   ],
   "source": [
    "# Classes de BMI para Equal-Width Binning\n",
    "df_discretization[\"BMI_Equal_Width\"]  = pd.cut(df_discretization[\"BMI\"],bins=[-np.inf, 18.5, 24.9, 29.9, 34.9, 39.9, np.inf],labels=bmi_labels,right=True)\n",
    "\n",
    "df_discretization[\"Fruit_Consumption_Equal_Width\"] = pd.cut(df_discretization[\"Fruit_Consumption\"],bins=[-np.inf, 25.0, 49.9, 74.9, 99.9, np.inf],labels=consummtion_labels,right=True)\n",
    "df_discretization[\"Green_Vegetables_Consumption_Equal_Width\"]  = pd.cut(df_discretization[\"Green_Vegetables_Consumption\"],bins=[-np.inf, 25.0, 49.9, 74.9, 99.9,np.inf],labels=consummtion_labels,right=True)\n",
    "df_discretization[\"FriedPotato_Consumption_Equal_Width\"]  = pd.cut(df_discretization[\"FriedPotato_Consumption\"],bins=[-np.inf, 25.0, 49.9, 74.9, 99.9, np.inf],labels=consummtion_labels,right=True)\n",
    "\n",
    "print(df_discretization[['BMI', 'BMI_Equal_Width']])\n",
    "print(df_discretization[['Fruit_Consumption', 'Fruit_Consumption_Equal_Width']])\n",
    "print(df_discretization[['Green_Vegetables_Consumption', 'Green_Vegetables_Consumption_Equal_Width']])\n",
    "print(df_discretization[['FriedPotato_Consumption','FriedPotato_Consumption_Equal_Width']])\n"
   ]
  },
  {
   "cell_type": "markdown",
   "metadata": {
    "id": "_B6-XJfK3T3k"
   },
   "source": [
    "## Equal-Height binning"
   ]
  },
  {
   "cell_type": "code",
   "execution_count": null,
   "metadata": {
    "collapsed": true,
    "id": "xOUc6UwsVa1-"
   },
   "outputs": [],
   "source": [
    "print(df_discretization['Fruit_Consumption'].unique())\n",
    "print(df_discretization['Green_Vegetables_Consumption'].unique())\n",
    "print(df_discretization['FriedPotato_Consumption'].unique())"
   ]
  },
  {
   "cell_type": "code",
   "execution_count": null,
   "metadata": {
    "colab": {
     "base_uri": "https://localhost:8080/"
    },
    "collapsed": true,
    "executionInfo": {
     "elapsed": 217,
     "status": "ok",
     "timestamp": 1735995016411,
     "user": {
      "displayName": "Tiago Gonçalves",
      "userId": "16692847479712686879"
     },
     "user_tz": 0
    },
    "id": "RqnNVDEFV6uK",
    "outputId": "0ce7b7a0-b206-4b4e-f5d8-9c214e184fe4"
   },
   "outputs": [
    {
     "name": "stdout",
     "output_type": "stream",
     "text": [
      "          BMI   BMI_Equal_Height\n",
      "0       14.54            Magreza\n",
      "1       28.29   Obesidade grau I\n",
      "2       33.47  Obesidade grau II\n",
      "3       28.73   Obesidade grau I\n",
      "4       24.37             Normal\n",
      "...       ...                ...\n",
      "308849  29.05   Obesidade grau I\n",
      "308850  21.48            Magreza\n",
      "308851  24.69             Normal\n",
      "308852  23.73             Normal\n",
      "308853  31.71  Obesidade grau II\n",
      "\n",
      "[308854 rows x 2 columns]\n",
      "        Fruit_Consumption Fruit_Consumption_Equal_Height\n",
      "0                    30.0                            Bom\n",
      "1                    30.0                            Bom\n",
      "2                    12.0                          Pouco\n",
      "3                    30.0                            Bom\n",
      "4                     8.0                    Muito Pouco\n",
      "...                   ...                            ...\n",
      "308849               30.0                            Bom\n",
      "308850               15.0                          Pouco\n",
      "308851               40.0                          Muito\n",
      "308852               30.0                            Bom\n",
      "308853                5.0                    Muito Pouco\n",
      "\n",
      "[308854 rows x 2 columns]\n",
      "        Green_Vegetables_Consumption Green_Vegetables_Consumption_Equal_Height\n",
      "0                               16.0                                     Muito\n",
      "1                                0.0                               Muito Pouco\n",
      "2                                3.0                               Muito Pouco\n",
      "3                               30.0                                     Muito\n",
      "4                                4.0                               Muito Pouco\n",
      "...                              ...                                       ...\n",
      "308849                           8.0                                     Pouco\n",
      "308850                          60.0                                 Demaciado\n",
      "308851                           8.0                                     Pouco\n",
      "308852                          12.0                                       Bom\n",
      "308853                          12.0                                       Bom\n",
      "\n",
      "[308854 rows x 2 columns]\n",
      "        FriedPotato_Consumption\n",
      "0                          12.0\n",
      "1                           4.0\n",
      "2                          16.0\n",
      "3                           8.0\n",
      "4                           0.0\n",
      "...                         ...\n",
      "308849                      0.0\n",
      "308850                      4.0\n",
      "308851                      4.0\n",
      "308852                      0.0\n",
      "308853                      1.0\n",
      "\n",
      "[308854 rows x 1 columns]\n",
      "       FriedPotato_Consumption_Equal_Height\n",
      "0                                 Demaciado\n",
      "1                                       Bom\n",
      "2                                 Demaciado\n",
      "3                                     Muito\n",
      "4                               Muito Pouco\n",
      "...                                     ...\n",
      "308849                          Muito Pouco\n",
      "308850                                  Bom\n",
      "308851                                  Bom\n",
      "308852                          Muito Pouco\n",
      "308853                          Muito Pouco\n",
      "\n",
      "[308854 rows x 1 columns]\n"
     ]
    }
   ],
   "source": [
    "# Classes de BMI para Equal-Height Binning\n",
    "df_discretization[\"BMI_Equal_Height\"] = pd.qcut(df_discretization[\"BMI\"], q=len(bmi_labels), labels=bmi_labels)\n",
    "\n",
    "df_discretization[\"Fruit_Consumption_Equal_Height\"] = pd.qcut(df_discretization[\"Fruit_Consumption\"], q=len(consummtion_labels), labels=consummtion_labels)\n",
    "df_discretization[\"Green_Vegetables_Consumption_Equal_Height\"] = pd.qcut(df_discretization[\"Green_Vegetables_Consumption\"], q=len(consummtion_labels), labels=consummtion_labels)\n",
    "df_discretization[\"FriedPotato_Consumption_Equal_Height\"] = pd.qcut(df_discretization[\"FriedPotato_Consumption\"], q=len(consummtion_labels), labels=consummtion_labels)\n",
    "\n",
    "print(df_discretization[['BMI', 'BMI_Equal_Height']])\n",
    "print(df_discretization[['Fruit_Consumption', 'Fruit_Consumption_Equal_Height']])\n",
    "print(df_discretization[['Green_Vegetables_Consumption', 'Green_Vegetables_Consumption_Equal_Height']])\n",
    "\n",
    "print(df_discretization[['FriedPotato_Consumption']])\n",
    "print(df_discretization[['FriedPotato_Consumption_Equal_Height']])\n"
   ]
  },
  {
   "cell_type": "markdown",
   "metadata": {
    "id": "4Dk_VYGL2Od3"
   },
   "source": [
    "#Redução dos dados"
   ]
  },
  {
   "cell_type": "code",
   "execution_count": 2,
   "metadata": {
    "executionInfo": {
     "elapsed": 458,
     "status": "ok",
     "timestamp": 1736263324610,
     "user": {
      "displayName": "Tiago Gonçalves",
      "userId": "16692847479712686879"
     },
     "user_tz": 0
    },
    "id": "hr1jNoQMKuea"
   },
   "outputs": [],
   "source": [
    "df_Reduction = df.copy()"
   ]
  },
  {
   "cell_type": "code",
   "execution_count": 3,
   "metadata": {
    "colab": {
     "base_uri": "https://localhost:8080/"
    },
    "executionInfo": {
     "elapsed": 559,
     "status": "ok",
     "timestamp": 1736263326932,
     "user": {
      "displayName": "Tiago Gonçalves",
      "userId": "16692847479712686879"
     },
     "user_tz": 0
    },
    "id": "Q_ngUbDDWlTc",
    "outputId": "b03abe5c-fdef-4a12-c7c2-ba1dab175ee8"
   },
   "outputs": [
    {
     "name": "stdout",
     "output_type": "stream",
     "text": [
      "['General_Health', 'Checkup', 'Exercise', 'Heart_Disease', 'Skin_Cancer', 'Other_Cancer', 'Depression', 'Diabetes', 'Arthritis', 'Sex', 'Age_Category', 'Height_(cm)', 'Weight_(kg)', 'BMI', 'Smoking_History', 'Alcohol_Consumption', 'Fruit_Consumption', 'Green_Vegetables_Consumption', 'FriedPotato_Consumption']\n"
     ]
    }
   ],
   "source": [
    "nomes_colunas = df_Reduction.columns.tolist()\n",
    "print(nomes_colunas)"
   ]
  },
  {
   "cell_type": "markdown",
   "metadata": {
    "id": "AzXcUt3K3byf"
   },
   "source": [
    "## Attribute Sampling"
   ]
  },
  {
   "cell_type": "markdown",
   "metadata": {
    "id": "dS_S5xK3Zc6G"
   },
   "source": [
    "Colunas retiradas -> Skin_Cancer, Other_Cancer, Depression e Arthritis"
   ]
  },
  {
   "cell_type": "code",
   "execution_count": 8,
   "metadata": {
    "colab": {
     "base_uri": "https://localhost:8080/"
    },
    "collapsed": true,
    "executionInfo": {
     "elapsed": 377,
     "status": "ok",
     "timestamp": 1736264081019,
     "user": {
      "displayName": "Tiago Gonçalves",
      "userId": "16692847479712686879"
     },
     "user_tz": 0
    },
    "id": "ZDTCY2pZXst4",
    "outputId": "587eb95e-3840-4636-be0b-a4195d17c42c"
   },
   "outputs": [
    {
     "name": "stdout",
     "output_type": "stream",
     "text": [
      "       General_Health                  Checkup Exercise Heart_Disease  \\\n",
      "0                Poor  Within the past 2 years       No            No   \n",
      "1           Very Good     Within the past year       No           Yes   \n",
      "2           Very Good     Within the past year      Yes            No   \n",
      "3                Poor     Within the past year      Yes           Yes   \n",
      "4                Good     Within the past year       No            No   \n",
      "...               ...                      ...      ...           ...   \n",
      "308849      Very Good     Within the past year      Yes            No   \n",
      "308850           Fair  Within the past 5 years      Yes            No   \n",
      "308851      Very Good      5 or more years ago      Yes            No   \n",
      "308852      Very Good     Within the past year      Yes            No   \n",
      "308853      Excellent     Within the past year      Yes            No   \n",
      "\n",
      "                                          Diabetes     Sex Age_Category  \\\n",
      "0                                               No  Female        70-74   \n",
      "1                                              Yes  Female        70-74   \n",
      "2                                              Yes  Female        60-64   \n",
      "3                                              Yes    Male        75-79   \n",
      "4                                               No    Male          80+   \n",
      "...                                            ...     ...          ...   \n",
      "308849                                          No    Male        25-29   \n",
      "308850                                         Yes    Male        65-69   \n",
      "308851  Yes, but female told only during pregnancy  Female        30-34   \n",
      "308852                                          No    Male        65-69   \n",
      "308853                                          No  Female        45-49   \n",
      "\n",
      "        Height_(cm)  Weight_(kg)    BMI Smoking_History  Alcohol_Consumption  \\\n",
      "0             150.0        32.66  14.54             Yes                  0.0   \n",
      "1             165.0        77.11  28.29              No                  0.0   \n",
      "2             163.0        88.45  33.47              No                  4.0   \n",
      "3             180.0        93.44  28.73              No                  0.0   \n",
      "4             191.0        88.45  24.37             Yes                  0.0   \n",
      "...             ...          ...    ...             ...                  ...   \n",
      "308849        168.0        81.65  29.05              No                  4.0   \n",
      "308850        180.0        69.85  21.48              No                  8.0   \n",
      "308851        157.0        61.23  24.69             Yes                  4.0   \n",
      "308852        183.0        79.38  23.73              No                  3.0   \n",
      "308853        160.0        81.19  31.71              No                  1.0   \n",
      "\n",
      "        Fruit_Consumption  Green_Vegetables_Consumption  \\\n",
      "0                    30.0                          16.0   \n",
      "1                    30.0                           0.0   \n",
      "2                    12.0                           3.0   \n",
      "3                    30.0                          30.0   \n",
      "4                     8.0                           4.0   \n",
      "...                   ...                           ...   \n",
      "308849               30.0                           8.0   \n",
      "308850               15.0                          60.0   \n",
      "308851               40.0                           8.0   \n",
      "308852               30.0                          12.0   \n",
      "308853                5.0                          12.0   \n",
      "\n",
      "        FriedPotato_Consumption  \n",
      "0                          12.0  \n",
      "1                           4.0  \n",
      "2                          16.0  \n",
      "3                           8.0  \n",
      "4                           0.0  \n",
      "...                         ...  \n",
      "308849                      0.0  \n",
      "308850                      4.0  \n",
      "308851                      4.0  \n",
      "308852                      0.0  \n",
      "308853                      1.0  \n",
      "\n",
      "[308854 rows x 15 columns]\n"
     ]
    }
   ],
   "source": [
    "\n",
    "df_Reduction_attribute_sampling = df_Reduction[[\n",
    "    'General_Health',\n",
    "    'Checkup',\n",
    "    'Exercise',\n",
    "    'Heart_Disease',\n",
    "    'Diabetes',\n",
    "    'Sex',\n",
    "    'Age_Category',\n",
    "    'Height_(cm)',\n",
    "    'Weight_(kg)',\n",
    "    'BMI',\n",
    "    'Smoking_History',\n",
    "    'Alcohol_Consumption',\n",
    "    'Fruit_Consumption',\n",
    "    'Green_Vegetables_Consumption',\n",
    "    'FriedPotato_Consumption'\n",
    "    ]]\n",
    "print(df_Reduction_attribute_sampling)"
   ]
  },
  {
   "cell_type": "code",
   "execution_count": 10,
   "metadata": {
    "colab": {
     "base_uri": "https://localhost:8080/"
    },
    "executionInfo": {
     "elapsed": 332,
     "status": "ok",
     "timestamp": 1736264311710,
     "user": {
      "displayName": "Tiago Gonçalves",
      "userId": "16692847479712686879"
     },
     "user_tz": 0
    },
    "id": "XjNlFKpeal2g",
    "outputId": "f05f18c9-862a-42d6-9420-7b97c4052eba"
   },
   "outputs": [
    {
     "name": "stdout",
     "output_type": "stream",
     "text": [
      "['General_Health', 'Checkup', 'Exercise', 'Heart_Disease', 'Diabetes', 'Sex', 'Age_Category', 'Height_(cm)', 'Weight_(kg)', 'BMI', 'Smoking_History', 'Alcohol_Consumption', 'Fruit_Consumption', 'Green_Vegetables_Consumption', 'FriedPotato_Consumption']\n"
     ]
    }
   ],
   "source": [
    "print(df_Reduction_attribute_sampling.columns.tolist())"
   ]
  },
  {
   "cell_type": "markdown",
   "metadata": {
    "id": "tiaBxtXS3dro"
   },
   "source": [
    "## Aggregation"
   ]
  },
  {
   "cell_type": "code",
   "execution_count": null,
   "metadata": {
    "id": "Pz8kpLACbUf_"
   },
   "outputs": [],
   "source": [
    "#Colunas a juntar\n",
    "#Skin_Cancer, Other Cancer -> Have Cancer\n",
    "#Fruit_Consumption, Green_Vegetables_Consumption -> Alimentação Saudavel Consumo"
   ]
  },
  {
   "cell_type": "markdown",
   "metadata": {
    "id": "T47M8xLR1QWN"
   },
   "source": [
    "#Supervised Learning Algorithms"
   ]
  },
  {
   "cell_type": "markdown",
   "metadata": {
    "id": "FhUPvJjL3qt1"
   },
   "source": [
    "## Arvores de decisão"
   ]
  },
  {
   "cell_type": "markdown",
   "metadata": {
    "id": "YW2sXCWc3vJr"
   },
   "source": [
    "## Percepção de multi camada"
   ]
  },
  {
   "cell_type": "markdown",
   "metadata": {
    "id": "BMZ_rm_h3zJi"
   },
   "source": [
    "## K-NN"
   ]
  },
  {
   "cell_type": "markdown",
   "metadata": {
    "id": "tx3go2sF1WJm"
   },
   "source": [
    "#Unsupervised learning algorithms"
   ]
  },
  {
   "cell_type": "markdown",
   "metadata": {
    "id": "GJ9mmhf03hhZ"
   },
   "source": [
    "## k-means"
   ]
  },
  {
   "cell_type": "code",
   "execution_count": 14,
   "metadata": {
    "colab": {
     "base_uri": "https://localhost:8080/",
     "height": 624
    },
    "executionInfo": {
     "elapsed": 4150,
     "status": "error",
     "timestamp": 1736264959296,
     "user": {
      "displayName": "Tiago Gonçalves",
      "userId": "16692847479712686879"
     },
     "user_tz": 0
    },
    "id": "ydJhf9qtc1ph",
    "outputId": "5b787ff5-d2e2-4d32-8c30-91143b2608f6"
   },
   "outputs": [
    {
     "data": {
      "image/png": "[encoded data removed]",
      "text/plain": [
       "<Figure size 640x480 with 1 Axes>"
      ]
     },
     "metadata": {},
     "output_type": "display_data"
    },
    {
     "ename": "NameError",
     "evalue": "name 'inertias' is not defined",
     "output_type": "error",
     "traceback": [
      "\u001b[0;31m---------------------------------------------------------------------------\u001b[0m",
      "\u001b[0;31mNameError\u001b[0m                                 Traceback (most recent call last)",
      "\u001b[0;32m<ipython-input-14-37880119f2e9>\u001b[0m in \u001b[0;36m<cell line: 23>\u001b[0;34m()\u001b[0m\n\u001b[1;32m     24\u001b[0m   \u001b[0mkmeans\u001b[0m \u001b[0;34m=\u001b[0m \u001b[0mKMeans\u001b[0m\u001b[0;34m(\u001b[0m\u001b[0mn_clusters\u001b[0m\u001b[0;34m=\u001b[0m\u001b[0mi\u001b[0m\u001b[0;34m)\u001b[0m\u001b[0;34m\u001b[0m\u001b[0;34m\u001b[0m\u001b[0m\n\u001b[1;32m     25\u001b[0m   \u001b[0mkmeans\u001b[0m\u001b[0;34m.\u001b[0m\u001b[0mfit\u001b[0m\u001b[0;34m(\u001b[0m\u001b[0mX\u001b[0m\u001b[0;34m)\u001b[0m\u001b[0;34m\u001b[0m\u001b[0;34m\u001b[0m\u001b[0m\n\u001b[0;32m---> 26\u001b[0;31m   \u001b[0minertias\u001b[0m\u001b[0;34m.\u001b[0m\u001b[0mappend\u001b[0m\u001b[0;34m(\u001b[0m\u001b[0mkmeans\u001b[0m\u001b[0;34m.\u001b[0m\u001b[0minertia_\u001b[0m\u001b[0;34m)\u001b[0m\u001b[0;34m\u001b[0m\u001b[0;34m\u001b[0m\u001b[0m\n\u001b[0m\u001b[1;32m     27\u001b[0m \u001b[0;34m\u001b[0m\u001b[0m\n\u001b[1;32m     28\u001b[0m \u001b[0mplt\u001b[0m\u001b[0;34m.\u001b[0m\u001b[0mplot\u001b[0m\u001b[0;34m(\u001b[0m\u001b[0mrange\u001b[0m\u001b[0;34m(\u001b[0m\u001b[0;36m1\u001b[0m\u001b[0;34m,\u001b[0m \u001b[0;36m11\u001b[0m\u001b[0;34m)\u001b[0m\u001b[0;34m,\u001b[0m \u001b[0minertias\u001b[0m\u001b[0;34m,\u001b[0m \u001b[0mmarker\u001b[0m\u001b[0;34m=\u001b[0m\u001b[0;34m'o'\u001b[0m\u001b[0;34m)\u001b[0m\u001b[0;34m\u001b[0m\u001b[0;34m\u001b[0m\u001b[0m\n",
      "\u001b[0;31mNameError\u001b[0m: name 'inertias' is not defined"
     ]
    }
   ],
   "source": [
    "import numpy as np\n",
    "import matplotlib.pyplot as plt\n",
    "from sklearn.cluster import KMeans\n",
    "from sklearn.datasets import make_blobs\n",
    "#Step 2: Generate Synthetic Data\n",
    "\n",
    "# Generate synthetic data\n",
    "X, y = make_blobs(n_samples=300, centers=4, cluster_std=0.60, random_state=0)\n",
    "#Step 3: Apply K-Means Clustering\n",
    "\n",
    "# Apply K-Means clustering\n",
    "kmeans = KMeans(n_clusters=4)\n",
    "kmeans.fit(X)\n",
    "y_kmeans = kmeans.predict(X)\n",
    "#Step 4: Visualize the Clusters\n",
    "\n",
    "# Visualize the clusters\n",
    "plt.scatter(X[:, 0], X[:, 1], c=y_kmeans, s=50, cmap='viridis')\n",
    "centers = kmeans.cluster_centers_\n",
    "plt.scatter(centers[:, 0], centers[:, 1], c='red', s=200, alpha=0.75)\n",
    "plt.show()\n",
    "\n",
    "for i in range(1, 11):\n",
    "  kmeans = KMeans(n_clusters=i)\n",
    "  kmeans.fit(X)\n",
    "  inertias.append(kmeans.inertia_)\n",
    "\n",
    "plt.plot(range(1, 11), inertias, marker='o')\n",
    "plt.title('Elbow Method')\n",
    "plt.xlabel('Number of clusters')\n",
    "plt.ylabel('Inertia')\n",
    "plt.show()"
   ]
  },
  {
   "cell_type": "markdown",
   "metadata": {
    "id": "OGUW6--M3lJd"
   },
   "source": [
    "## DBScan"
   ]
  }
 ],
 "metadata": {
  "colab": {
   "authorship_tag": "ABX9TyMM5z6LjBSyOIv4dgSiFT4l",
   "collapsed_sections": [
    "ru6usoli1YlH",
    "TDTBTN25bMP1",
    "Vsurk6EV2CLI"
   ],
   "provenance": []
  },
  "kernelspec": {
   "display_name": "Python 3",
   "name": "python3"
  },
  "language_info": {
   "name": "python",
   "version": "3.12.2"
  }
 },
 "nbformat": 4,
 "nbformat_minor": 0
}
