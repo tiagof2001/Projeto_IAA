{
  "cells": [
    {
      "cell_type": "markdown",
      "metadata": {
        "id": "y0s0ekXK2T6_"
      },
      "source": [
        "#Descarregamento dos dados do ficheiro CVS_cleaned"
      ]
    },
    {
      "cell_type": "code",
      "execution_count": null,
      "metadata": {
        "id": "-8HNBrrb2bFo"
      },
      "outputs": [],
      "source": [
        "import pandas as pd\n",
        "import numpy as np\n",
        "\n",
        "# Ler o arquivo CSV\n",
        "df = pd.read_csv('CVD_cleaned.csv')"
      ]
    },
    {
      "cell_type": "markdown",
      "metadata": {
        "id": "T47M8xLR1QWN"
      },
      "source": [
        "#Supervised Learning Algorithms"
      ]
    },
    {
      "cell_type": "markdown",
      "metadata": {
        "id": "FhUPvJjL3qt1"
      },
      "source": [
        "## Arvores de decisão"
      ]
    },
    {
      "cell_type": "markdown",
      "metadata": {
        "id": "YW2sXCWc3vJr"
      },
      "source": [
        "## Percepção de multi camada"
      ]
    },
    {
      "cell_type": "markdown",
      "metadata": {
        "id": "BMZ_rm_h3zJi"
      },
      "source": [
        "## K-NN"
      ]
    },
    {
      "cell_type": "markdown",
      "metadata": {
        "id": "tx3go2sF1WJm"
      },
      "source": [
        "#Unsupervised learning algorithms"
      ]
    },
    {
      "cell_type": "markdown",
      "metadata": {
        "id": "GJ9mmhf03hhZ"
      },
      "source": [
        "## k-means"
      ]
    },
    {
      "cell_type": "markdown",
      "metadata": {
        "id": "OGUW6--M3lJd"
      },
      "source": [
        "## DBScan"
      ]
    },
    {
      "cell_type": "markdown",
      "metadata": {
        "id": "ru6usoli1YlH"
      },
      "source": [
        "#Remoção de 10% e 20% dos dados"
      ]
    },
    {
      "cell_type": "code",
      "execution_count": null,
      "metadata": {
        "id": "r05Y5D83rJOl"
      },
      "outputs": [],
      "source": [
        "def remover_dados(df,percentual_remocao):\n",
        "\n",
        "  # Substituir 10% dos valores de cada linha por NaN\n",
        "  for index, row in df.iterrows():\n",
        "    # Selecionar colunas aleatórias na linha\n",
        "    num_colunas = len(row)\n",
        "    colunas_a_remover = np.random.choice(row.index, size=round(num_colunas * percentual_remocao), replace=False)\n",
        "    # Substituir os valores escolhidos por NaN\n",
        "    df.loc[index, colunas_a_remover] = np.nan\n",
        "  return df\n",
        "\n",
        "numero_registos = 10\n",
        "df_copia = df.sample(n=numero_registos, random_state=42)\n",
        "#print(df_copia.iloc[2])\n",
        "\n",
        "df_delete_dez = remover_dados(df_copia,0.1)\n",
        "df_delete_vinte = remover_dados(df_copia,0.2)"
      ]
    },
    {
      "cell_type": "markdown",
      "metadata": {},
      "source": [
        "# Tratamento dos dados eliminados\n",
        "\n",
        "## Para 10% dos dados (Valor mais comum e Valor medio)\n",
        "\n",
        "\n",
        "\n",
        "# Copiar do dataset dos dados eliminados para outro dataset\n",
        "\n",
        "#Filtração do dataset para conter só os registos que contém pelo menos um nan\n",
        "\n",
        "#linhas_com_nulos = df_delete_dez[df_delete_dez.isnull().any(axis=1)]\n",
        "#print(linhas_com_nulos)\n",
        "#df_delete_dez_comum = linhas_com_nulos\n",
        "#df_delete_dez_mean = linhas_com_nulos\n",
        "\n",
        "df_delete_dez_comum = df_delete_dez\n",
        "df_delete_dez_mean = df_delete_dez\n",
        "\n",
        "# Tratamento dos dados eliminados através da substituição pelo valor mais comum\n",
        "for coluna_comum in df_delete_dez_comum.columns:\n",
        "    valor_mais_comum = df_delete_dez_mean[coluna_comum].mode()[0]  # Calcula o valor mais comum\n",
        "    df_delete_dez_comum[coluna_comum] = df_delete_dez_comum[coluna_comum].fillna(valor_mais_comum)  # Substitui valores nulos\n",
        "\n",
        "\n",
        "# Tratamento dos dados eliminados através da substituição pelo valor médio\n",
        "\n",
        "# É realizado uma conversão das colunas quantativas para numericos, para obter o valor médio dessas colunas\n",
        "\n",
        "# Identificar colunas qualitativas\n",
        "categorical_cols = df_delete_dez_mean.select_dtypes(include=['object', 'category']).columns\n",
        "\n",
        "# Criação de um dicionário para mapear categorias para valores numéricos e vice-versa\n",
        "categorical_maps = {}\n",
        "\n",
        "# Converter os valores categoricos para valores numéricos\n",
        "for col in categorical_cols:\n",
        "    unique_categories = df_delete_dez_mean[col].dropna().unique()\n",
        "    category_to_num = {cat: num for num, cat in enumerate(unique_categories)}\n",
        "    num_to_category = {num: cat for cat, num in category_to_num.items()}\n",
        "    categorical_maps[col] = {'cat_to_num': category_to_num, 'num_to_cat': num_to_category}\n",
        "    df_delete_dez_mean[col] = df_delete_dez_mean[col].map(category_to_num)\n",
        "\n",
        "# Passo 3: Obter o valor médio para cada coluna\n",
        "means = {}\n",
        "for col in df_delete_dez_mean.columns:\n",
        "    means[col] = df_delete_dez_mean[col].mean()\n",
        "\n",
        "# Passo 4: Substituir valores nulos pelo valor médio\n",
        "for col in df_delete_dez_mean.columns:\n",
        "    df_delete_dez_mean[col] = df_delete_dez_mean[col].fillna(means[col])\n",
        "\n",
        "# Passo 5: Reversão das colunas qualitativas de valores numéricos para as categorias originais\n",
        "for col in categorical_cols:\n",
        "    df_delete_dez_mean[col] = df_delete_dez_mean[col].round().astype(int).map(categorical_maps[col]['num_to_cat'])\n",
        "\n",
        "print(df_delete_dez_comum)\n",
        "print(df_delete_dez_mean)\n",
        "\n",
        "## Para 20% dos dados (Valor mais comum e Valor medio)\n",
        "\n",
        "# Copiar do dataset dos dados eliminados para outro dataset\n",
        "\n",
        "#Filtração do dataset para conter só os registos que contém pelo menos um nan\n",
        "\n",
        "#linhas_com_nulos = df_delete_vinte[df_delete_vinte.isnull().any(axis=1)]\n",
        "#print(linhas_com_nulos)\n",
        "#df_delete_vinte_comum = linhas_com_nulos\n",
        "#df_delete_vinte_mean = linhas_com_nulos\n",
        "\n",
        "df_delete_vinte_comum = df_delete_vinte\n",
        "df_delete_vinte_mean = df_delete_vinte\n",
        "\n",
        "# Tratamento dos dados eliminados através da substituição pelo valor mais comum\n",
        "for coluna_comum in df_delete_vinte_comum.columns:\n",
        "    valor_mais_comum = df_delete_vinte_comum[coluna_comum].mode()[0]  # Calcula o valor mais comum\n",
        "    df_delete_vinte_comum[coluna_comum] = df_delete_vinte_comum[coluna_comum].fillna(valor_mais_comum)  # Substitui valores nulos\n",
        "\n",
        "# Tratamento dos dados eliminados através da substituição pelo valor médio\n",
        "\n",
        "# Identificar colunas qualitativas\n",
        "categorical_cols = df_delete_vinte_mean.select_dtypes(include=['object', 'category']).columns\n",
        "\n",
        "# Criação de um dicionário para mapear categorias para valores numéricos e vice-versa\n",
        "categorical_maps = {}\n",
        "\n",
        "# Converter valores categoricos para valores numéricos\n",
        "for col in categorical_cols:\n",
        "    unique_categories = df_delete_vinte_mean[col].dropna().unique()\n",
        "    category_to_num = {cat: num for num, cat in enumerate(unique_categories)}\n",
        "    num_to_category = {num: cat for cat, num in category_to_num.items()}\n",
        "    categorical_maps[col] = {'cat_to_num': category_to_num, 'num_to_cat': num_to_category}\n",
        "    df_delete_vinte_mean[col] = df_delete_vinte_mean[col].map(category_to_num)\n",
        "\n",
        "# Passo 3: Obter o valor médio para cada coluna\n",
        "means = {}\n",
        "for col in df_delete_vinte_mean.columns:\n",
        "    means[col] = df_delete_vinte_mean[col].mean()\n",
        "\n",
        "# Passo 4: Substituir valores nulos pelo valor médio\n",
        "for col in df_delete_vinte_mean.columns:\n",
        "    df_delete_vinte_mean[col] = df_delete_vinte_mean[col].fillna(means[col])\n",
        "\n",
        "# Passo 5: Reverter colunas qualitativas de valores numéricos para categorias originais\n",
        "for col in categorical_cols:\n",
        "    df_delete_vinte_mean[col] = df_delete_vinte_mean[col].round().astype(int).map(categorical_maps[col]['num_to_cat'])\n",
        "\n",
        "print(df_delete_vinte_comum)\n",
        "print(df_delete_vinte_mean)"
      ]
    },
    {
      "cell_type": "markdown",
      "metadata": {
        "id": "Vsurk6EV2CLI"
      },
      "source": [
        "#Normalização dos dados"
      ]
    },
    {
      "cell_type": "markdown",
      "metadata": {
        "id": "iEWHbCS32kr1"
      },
      "source": [
        "##Min-Max"
      ]
    },
    {
      "cell_type": "markdown",
      "metadata": {
        "id": "aAAyQW6g3JS5"
      },
      "source": [
        "##Z-score"
      ]
    },
    {
      "cell_type": "markdown",
      "metadata": {
        "id": "WdyJ7DKI2IF5"
      },
      "source": [
        "#Discritização dos dados"
      ]
    },
    {
      "cell_type": "markdown",
      "metadata": {
        "id": "VWEGhDtc3QIg"
      },
      "source": [
        "## Equal-Width binning"
      ]
    },
    {
      "cell_type": "markdown",
      "metadata": {
        "id": "_B6-XJfK3T3k"
      },
      "source": [
        "## Equal-Height binning"
      ]
    },
    {
      "cell_type": "markdown",
      "metadata": {
        "id": "4Dk_VYGL2Od3"
      },
      "source": [
        "#Redução dos dados"
      ]
    },
    {
      "cell_type": "markdown",
      "metadata": {
        "id": "AzXcUt3K3byf"
      },
      "source": [
        "## Attribute Sampling"
      ]
    },
    {
      "cell_type": "markdown",
      "metadata": {
        "id": "tiaBxtXS3dro"
      },
      "source": [
        "## Aggregation"
      ]
    }
  ],
  "metadata": {
    "colab": {
      "provenance": []
    },
    "kernelspec": {
      "display_name": "Python 3",
      "name": "python3"
    },
    "language_info": {
      "codemirror_mode": {
        "name": "ipython",
        "version": 3
      },
      "file_extension": ".py",
      "mimetype": "text/x-python",
      "name": "python",
      "nbconvert_exporter": "python",
      "pygments_lexer": "ipython3",
      "version": "3.12.2"
    }
  },
  "nbformat": 4,
  "nbformat_minor": 0
}
