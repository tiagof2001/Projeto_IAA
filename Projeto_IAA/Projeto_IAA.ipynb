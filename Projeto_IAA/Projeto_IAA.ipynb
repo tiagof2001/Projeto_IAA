{
  "cells": [
    {
      "cell_type": "markdown",
      "metadata": {
        "id": "y0s0ekXK2T6_"
      },
      "source": [
        "#Descarregamento dos dados do ficheiro CVS_cleaned"
      ]
    },
    {
      "cell_type": "code",
      "execution_count": 7,
      "metadata": {
        "id": "-8HNBrrb2bFo"
      },
      "outputs": [
        {
          "ename": "ModuleNotFoundError",
          "evalue": "No module named 'pandas'",
          "output_type": "error",
          "traceback": [
            "\u001b[1;31m---------------------------------------------------------------------------\u001b[0m",
            "\u001b[1;31mModuleNotFoundError\u001b[0m                       Traceback (most recent call last)",
            "Cell \u001b[1;32mIn[7], line 2\u001b[0m\n\u001b[0;32m      1\u001b[0m \u001b[38;5;28;01mfrom\u001b[39;00m \u001b[38;5;21;01mcolabcode\u001b[39;00m \u001b[38;5;28;01mimport\u001b[39;00m ColabCode\n\u001b[1;32m----> 2\u001b[0m \u001b[38;5;28;01mimport\u001b[39;00m \u001b[38;5;21;01mpandas\u001b[39;00m \u001b[38;5;28;01mas\u001b[39;00m \u001b[38;5;21;01mpd\u001b[39;00m\n\u001b[0;32m      3\u001b[0m \u001b[38;5;28;01mimport\u001b[39;00m \u001b[38;5;21;01mnumpy\u001b[39;00m \u001b[38;5;28;01mas\u001b[39;00m \u001b[38;5;21;01mnp\u001b[39;00m\n\u001b[0;32m      5\u001b[0m \u001b[38;5;66;03m# Ler o arquivo CSV\u001b[39;00m\n",
            "\u001b[1;31mModuleNotFoundError\u001b[0m: No module named 'pandas'"
          ]
        }
      ],
      "source": [
        "from colabcode import ColabCode\n",
        "import pandas as pd\n",
        "import numpy as np\n",
        "\n",
        "# Ler o arquivo CSV\n",
        "df = pd.read_csv('CVD_cleaned.csv')"
      ]
    },
    {
      "cell_type": "markdown",
      "metadata": {
        "id": "T47M8xLR1QWN"
      },
      "source": [
        "#Supervised Learning Algorithms"
      ]
    },
    {
      "cell_type": "markdown",
      "metadata": {
        "id": "FhUPvJjL3qt1"
      },
      "source": [
        "## Arvores de decisão"
      ]
    },
    {
      "cell_type": "markdown",
      "metadata": {
        "id": "YW2sXCWc3vJr"
      },
      "source": [
        "## Percepção de multi camada"
      ]
    },
    {
      "cell_type": "markdown",
      "metadata": {
        "id": "BMZ_rm_h3zJi"
      },
      "source": [
        "## K-NN"
      ]
    },
    {
      "cell_type": "markdown",
      "metadata": {
        "id": "tx3go2sF1WJm"
      },
      "source": [
        "#Unsupervised learning algorithms"
      ]
    },
    {
      "cell_type": "markdown",
      "metadata": {
        "id": "GJ9mmhf03hhZ"
      },
      "source": [
        "## k-means"
      ]
    },
    {
      "cell_type": "markdown",
      "metadata": {
        "id": "OGUW6--M3lJd"
      },
      "source": [
        "## DBScan"
      ]
    },
    {
      "cell_type": "markdown",
      "metadata": {
        "id": "ru6usoli1YlH"
      },
      "source": [
        "#Remoção de 10% e 20% dos dados"
      ]
    },
    {
      "cell_type": "code",
      "execution_count": null,
      "metadata": {
        "id": "r05Y5D83rJOl"
      },
      "outputs": [],
      "source": [
        "def remover_dados(df,percentual_remocao):\n",
        "\n",
        "  # Substituir 10% dos valores de cada linha por NaN\n",
        "  for index, row in df.iterrows():\n",
        "    # Selecionar colunas aleatórias na linha\n",
        "    num_colunas = len(row)\n",
        "    colunas_a_remover = np.random.choice(row.index, size=round(num_colunas * percentual_remocao), replace=False)\n",
        "    # Substituir os valores escolhidos por NaN\n",
        "    df.loc[index, colunas_a_remover] = np.nan\n",
        "  return df\n",
        "\n",
        "numero_registos = 10\n",
        "df_copia = df.sample(n=numero_registos, random_state=42)\n",
        "#print(df_copia.iloc[2])\n",
        "\n",
        "df_delete_dez = remover_dados(df_copia,0.1)\n",
        "df_delete_vinte = remover_dados(df_copia,0.2)"
      ]
    },
    {
      "cell_type": "markdown",
      "metadata": {
        "id": "Vsurk6EV2CLI"
      },
      "source": [
        "#Normalização dos dados"
      ]
    },
    {
      "cell_type": "markdown",
      "metadata": {
        "id": "iEWHbCS32kr1"
      },
      "source": [
        "##Min-Max"
      ]
    },
    {
      "cell_type": "markdown",
      "metadata": {
        "id": "aAAyQW6g3JS5"
      },
      "source": [
        "##Z-score"
      ]
    },
    {
      "cell_type": "markdown",
      "metadata": {
        "id": "WdyJ7DKI2IF5"
      },
      "source": [
        "#Discritização dos dados"
      ]
    },
    {
      "cell_type": "markdown",
      "metadata": {
        "id": "VWEGhDtc3QIg"
      },
      "source": [
        "## Equal-Width binning"
      ]
    },
    {
      "cell_type": "markdown",
      "metadata": {
        "id": "_B6-XJfK3T3k"
      },
      "source": [
        "## Equal-Height binning"
      ]
    },
    {
      "cell_type": "markdown",
      "metadata": {
        "id": "4Dk_VYGL2Od3"
      },
      "source": [
        "#Redução dos dados"
      ]
    },
    {
      "cell_type": "markdown",
      "metadata": {
        "id": "AzXcUt3K3byf"
      },
      "source": [
        "## Attribute Sampling"
      ]
    },
    {
      "cell_type": "markdown",
      "metadata": {
        "id": "tiaBxtXS3dro"
      },
      "source": [
        "## Aggregation"
      ]
    }
  ],
  "metadata": {
    "colab": {
      "provenance": []
    },
    "kernelspec": {
      "display_name": "Python 3",
      "name": "python3"
    },
    "language_info": {
      "codemirror_mode": {
        "name": "ipython",
        "version": 3
      },
      "file_extension": ".py",
      "mimetype": "text/x-python",
      "name": "python",
      "nbconvert_exporter": "python",
      "pygments_lexer": "ipython3",
      "version": "3.12.2"
    }
  },
  "nbformat": 4,
  "nbformat_minor": 0
}
