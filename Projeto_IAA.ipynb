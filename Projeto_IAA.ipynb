{
  "nbformat": 4,
  "nbformat_minor": 0,
  "metadata": {
    "colab": {
      "provenance": []
    },
    "kernelspec": {
      "name": "python3",
      "display_name": "Python 3"
    },
    "language_info": {
      "name": "python"
    }
  },
  "cells": [
    {
      "cell_type": "markdown",
      "source": [
        "#Descarregamento dos dados do ficheiro CVS_cleaned"
      ],
      "metadata": {
        "id": "y0s0ekXK2T6_"
      }
    },
    {
      "cell_type": "code",
      "source": [
        "import pandas as pd\n",
        "import numpy as np\n",
        "\n",
        "# Ler o arquivo CSV\n",
        "df = pd.read_csv('CVD_cleaned.csv')"
      ],
      "metadata": {
        "id": "-8HNBrrb2bFo"
      },
      "execution_count": null,
      "outputs": []
    },
    {
      "cell_type": "markdown",
      "source": [
        "#Supervised Learning Algorithms"
      ],
      "metadata": {
        "id": "T47M8xLR1QWN"
      }
    },
    {
      "cell_type": "markdown",
      "source": [
        "## Arvores de decisão"
      ],
      "metadata": {
        "id": "FhUPvJjL3qt1"
      }
    },
    {
      "cell_type": "markdown",
      "source": [
        "## Percepção de multi camada"
      ],
      "metadata": {
        "id": "YW2sXCWc3vJr"
      }
    },
    {
      "cell_type": "markdown",
      "source": [
        "## K-NN"
      ],
      "metadata": {
        "id": "BMZ_rm_h3zJi"
      }
    },
    {
      "cell_type": "markdown",
      "source": [
        "#Unsupervised learning algorithms"
      ],
      "metadata": {
        "id": "tx3go2sF1WJm"
      }
    },
    {
      "cell_type": "markdown",
      "source": [
        "## k-means"
      ],
      "metadata": {
        "id": "GJ9mmhf03hhZ"
      }
    },
    {
      "cell_type": "markdown",
      "source": [
        "## DBScan"
      ],
      "metadata": {
        "id": "OGUW6--M3lJd"
      }
    },
    {
      "cell_type": "markdown",
      "source": [
        "#Remoção de 10% e 20% dos dados"
      ],
      "metadata": {
        "id": "ru6usoli1YlH"
      }
    },
    {
      "cell_type": "code",
      "execution_count": null,
      "metadata": {
        "id": "r05Y5D83rJOl"
      },
      "outputs": [],
      "source": [
        "def remover_dados(df,percentual_remocao):\n",
        "\n",
        "  # Substituir 10% dos valores de cada linha por NaN\n",
        "  for index, row in df.iterrows():\n",
        "    # Selecionar colunas aleatórias na linha\n",
        "    num_colunas = len(row)\n",
        "    colunas_a_remover = np.random.choice(row.index, size=round(num_colunas * percentual_remocao), replace=False)\n",
        "    # Substituir os valores escolhidos por NaN\n",
        "    df.loc[index, colunas_a_remover] = np.nan\n",
        "  return df\n",
        "\n",
        "numero_registos = 10\n",
        "df_copia = df.sample(n=numero_registos, random_state=42)\n",
        "#print(df_copia.iloc[2])\n",
        "\n",
        "df_delete_dez = remover_dados(df_copia,0.1)\n",
        "df_delete_vinte = remover_dados(df_copia,0.2)"
      ]
    },
    {
      "cell_type": "markdown",
      "source": [
        "#Normalização dos dados"
      ],
      "metadata": {
        "id": "Vsurk6EV2CLI"
      }
    },
    {
      "cell_type": "markdown",
      "source": [
        "##Min-Max"
      ],
      "metadata": {
        "id": "iEWHbCS32kr1"
      }
    },
    {
      "cell_type": "markdown",
      "source": [
        "##Z-score"
      ],
      "metadata": {
        "id": "aAAyQW6g3JS5"
      }
    },
    {
      "cell_type": "markdown",
      "source": [
        "#Discritização dos dados"
      ],
      "metadata": {
        "id": "WdyJ7DKI2IF5"
      }
    },
    {
      "cell_type": "markdown",
      "source": [
        "## Equal-Width binning"
      ],
      "metadata": {
        "id": "VWEGhDtc3QIg"
      }
    },
    {
      "cell_type": "markdown",
      "source": [
        "## Equal-Height binning"
      ],
      "metadata": {
        "id": "_B6-XJfK3T3k"
      }
    },
    {
      "cell_type": "markdown",
      "source": [
        "#Redução dos dados"
      ],
      "metadata": {
        "id": "4Dk_VYGL2Od3"
      }
    },
    {
      "cell_type": "markdown",
      "source": [
        "## Attribute Sampling"
      ],
      "metadata": {
        "id": "AzXcUt3K3byf"
      }
    },
    {
      "cell_type": "markdown",
      "source": [
        "## Aggregation"
      ],
      "metadata": {
        "id": "tiaBxtXS3dro"
      }
    }
  ]
}